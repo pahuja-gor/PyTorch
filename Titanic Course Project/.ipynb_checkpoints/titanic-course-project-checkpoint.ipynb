{
 "cells": [
  {
   "cell_type": "code",
   "execution_count": 1,
   "metadata": {},
   "outputs": [
    {
     "name": "stdout",
     "output_type": "stream",
     "text": [
      "Collecting package metadata (current_repodata.json): ...working... done\n",
      "Solving environment: ...working... done\n",
      "\n",
      "# All requested packages already installed.\n",
      "\n"
     ]
    }
   ],
   "source": [
    "# Resources\n",
    "\n",
    "# Uncomment and run the commands below if imports fail\n",
    "!conda install numpy pytorch torchvision cpuonly -c pytorch -y\n",
    "!pip install matplotlib --upgrade --quiet\n",
    "!pip install pandas --upgrade --quiet\n",
    "!pip install jovian --upgrade --quiet"
   ]
  },
  {
   "cell_type": "code",
   "execution_count": 2,
   "metadata": {},
   "outputs": [],
   "source": [
    "# Imports\n",
    "import torch\n",
    "import jovian\n",
    "import torchvision\n",
    "import torch.nn as nn\n",
    "import numpy as np\n",
    "import pandas as pd\n",
    "import matplotlib.pyplot as plt\n",
    "import torch.nn.functional as F\n",
    "from torchvision.datasets.utils import download_url\n",
    "from torch.utils.data import DataLoader, TensorDataset, random_split"
   ]
  },
  {
   "cell_type": "code",
   "execution_count": 3,
   "metadata": {},
   "outputs": [],
   "source": [
    "# Hyperparameters\n",
    "batch_size = 5\n",
    "learning_rate = 1e-2\n",
    "threshold = 0.5\n",
    "TARGET_COLUMN = 'Survived'\n",
    "input_size = 7\n",
    "output_size = 1"
   ]
  },
  {
   "cell_type": "code",
   "execution_count": 4,
   "metadata": {},
   "outputs": [
    {
     "data": {
      "text/html": [
       "<div>\n",
       "<style scoped>\n",
       "    .dataframe tbody tr th:only-of-type {\n",
       "        vertical-align: middle;\n",
       "    }\n",
       "\n",
       "    .dataframe tbody tr th {\n",
       "        vertical-align: top;\n",
       "    }\n",
       "\n",
       "    .dataframe thead th {\n",
       "        text-align: right;\n",
       "    }\n",
       "</style>\n",
       "<table border=\"1\" class=\"dataframe\">\n",
       "  <thead>\n",
       "    <tr style=\"text-align: right;\">\n",
       "      <th></th>\n",
       "      <th>PassengerId</th>\n",
       "      <th>Survived</th>\n",
       "      <th>Pclass</th>\n",
       "      <th>Name</th>\n",
       "      <th>Sex</th>\n",
       "      <th>Age</th>\n",
       "      <th>SibSp</th>\n",
       "      <th>Parch</th>\n",
       "      <th>Ticket</th>\n",
       "      <th>Fare</th>\n",
       "      <th>Cabin</th>\n",
       "      <th>Embarked</th>\n",
       "    </tr>\n",
       "  </thead>\n",
       "  <tbody>\n",
       "    <tr>\n",
       "      <th>0</th>\n",
       "      <td>1</td>\n",
       "      <td>0</td>\n",
       "      <td>3</td>\n",
       "      <td>Braund, Mr. Owen Harris</td>\n",
       "      <td>male</td>\n",
       "      <td>22.0</td>\n",
       "      <td>1</td>\n",
       "      <td>0</td>\n",
       "      <td>A/5 21171</td>\n",
       "      <td>7.2500</td>\n",
       "      <td>NaN</td>\n",
       "      <td>S</td>\n",
       "    </tr>\n",
       "    <tr>\n",
       "      <th>1</th>\n",
       "      <td>2</td>\n",
       "      <td>1</td>\n",
       "      <td>1</td>\n",
       "      <td>Cumings, Mrs. John Bradley (Florence Briggs Th...</td>\n",
       "      <td>female</td>\n",
       "      <td>38.0</td>\n",
       "      <td>1</td>\n",
       "      <td>0</td>\n",
       "      <td>PC 17599</td>\n",
       "      <td>71.2833</td>\n",
       "      <td>C85</td>\n",
       "      <td>C</td>\n",
       "    </tr>\n",
       "    <tr>\n",
       "      <th>2</th>\n",
       "      <td>3</td>\n",
       "      <td>1</td>\n",
       "      <td>3</td>\n",
       "      <td>Heikkinen, Miss. Laina</td>\n",
       "      <td>female</td>\n",
       "      <td>26.0</td>\n",
       "      <td>0</td>\n",
       "      <td>0</td>\n",
       "      <td>STON/O2. 3101282</td>\n",
       "      <td>7.9250</td>\n",
       "      <td>NaN</td>\n",
       "      <td>S</td>\n",
       "    </tr>\n",
       "    <tr>\n",
       "      <th>3</th>\n",
       "      <td>4</td>\n",
       "      <td>1</td>\n",
       "      <td>1</td>\n",
       "      <td>Futrelle, Mrs. Jacques Heath (Lily May Peel)</td>\n",
       "      <td>female</td>\n",
       "      <td>35.0</td>\n",
       "      <td>1</td>\n",
       "      <td>0</td>\n",
       "      <td>113803</td>\n",
       "      <td>53.1000</td>\n",
       "      <td>C123</td>\n",
       "      <td>S</td>\n",
       "    </tr>\n",
       "    <tr>\n",
       "      <th>4</th>\n",
       "      <td>5</td>\n",
       "      <td>0</td>\n",
       "      <td>3</td>\n",
       "      <td>Allen, Mr. William Henry</td>\n",
       "      <td>male</td>\n",
       "      <td>35.0</td>\n",
       "      <td>0</td>\n",
       "      <td>0</td>\n",
       "      <td>373450</td>\n",
       "      <td>8.0500</td>\n",
       "      <td>NaN</td>\n",
       "      <td>S</td>\n",
       "    </tr>\n",
       "  </tbody>\n",
       "</table>\n",
       "</div>"
      ],
      "text/plain": [
       "   PassengerId  Survived  Pclass  \\\n",
       "0            1         0       3   \n",
       "1            2         1       1   \n",
       "2            3         1       3   \n",
       "3            4         1       1   \n",
       "4            5         0       3   \n",
       "\n",
       "                                                Name     Sex   Age  SibSp  \\\n",
       "0                            Braund, Mr. Owen Harris    male  22.0      1   \n",
       "1  Cumings, Mrs. John Bradley (Florence Briggs Th...  female  38.0      1   \n",
       "2                             Heikkinen, Miss. Laina  female  26.0      0   \n",
       "3       Futrelle, Mrs. Jacques Heath (Lily May Peel)  female  35.0      1   \n",
       "4                           Allen, Mr. William Henry    male  35.0      0   \n",
       "\n",
       "   Parch            Ticket     Fare Cabin Embarked  \n",
       "0      0         A/5 21171   7.2500   NaN        S  \n",
       "1      0          PC 17599  71.2833   C85        C  \n",
       "2      0  STON/O2. 3101282   7.9250   NaN        S  \n",
       "3      0            113803  53.1000  C123        S  \n",
       "4      0            373450   8.0500   NaN        S  "
      ]
     },
     "execution_count": 4,
     "metadata": {},
     "output_type": "execute_result"
    }
   ],
   "source": [
    "train_df = pd.read_csv('./train.csv')\n",
    "\n",
    "train_df.head()"
   ]
  },
  {
   "cell_type": "code",
   "execution_count": 5,
   "metadata": {},
   "outputs": [
    {
     "data": {
      "text/html": [
       "<div>\n",
       "<style scoped>\n",
       "    .dataframe tbody tr th:only-of-type {\n",
       "        vertical-align: middle;\n",
       "    }\n",
       "\n",
       "    .dataframe tbody tr th {\n",
       "        vertical-align: top;\n",
       "    }\n",
       "\n",
       "    .dataframe thead th {\n",
       "        text-align: right;\n",
       "    }\n",
       "</style>\n",
       "<table border=\"1\" class=\"dataframe\">\n",
       "  <thead>\n",
       "    <tr style=\"text-align: right;\">\n",
       "      <th></th>\n",
       "      <th>PassengerId</th>\n",
       "      <th>Pclass</th>\n",
       "      <th>Name</th>\n",
       "      <th>Sex</th>\n",
       "      <th>Age</th>\n",
       "      <th>SibSp</th>\n",
       "      <th>Parch</th>\n",
       "      <th>Ticket</th>\n",
       "      <th>Fare</th>\n",
       "      <th>Cabin</th>\n",
       "      <th>Embarked</th>\n",
       "    </tr>\n",
       "  </thead>\n",
       "  <tbody>\n",
       "    <tr>\n",
       "      <th>0</th>\n",
       "      <td>892</td>\n",
       "      <td>3</td>\n",
       "      <td>Kelly, Mr. James</td>\n",
       "      <td>male</td>\n",
       "      <td>34.5</td>\n",
       "      <td>0</td>\n",
       "      <td>0</td>\n",
       "      <td>330911</td>\n",
       "      <td>7.8292</td>\n",
       "      <td>NaN</td>\n",
       "      <td>Q</td>\n",
       "    </tr>\n",
       "    <tr>\n",
       "      <th>1</th>\n",
       "      <td>893</td>\n",
       "      <td>3</td>\n",
       "      <td>Wilkes, Mrs. James (Ellen Needs)</td>\n",
       "      <td>female</td>\n",
       "      <td>47.0</td>\n",
       "      <td>1</td>\n",
       "      <td>0</td>\n",
       "      <td>363272</td>\n",
       "      <td>7.0000</td>\n",
       "      <td>NaN</td>\n",
       "      <td>S</td>\n",
       "    </tr>\n",
       "    <tr>\n",
       "      <th>2</th>\n",
       "      <td>894</td>\n",
       "      <td>2</td>\n",
       "      <td>Myles, Mr. Thomas Francis</td>\n",
       "      <td>male</td>\n",
       "      <td>62.0</td>\n",
       "      <td>0</td>\n",
       "      <td>0</td>\n",
       "      <td>240276</td>\n",
       "      <td>9.6875</td>\n",
       "      <td>NaN</td>\n",
       "      <td>Q</td>\n",
       "    </tr>\n",
       "    <tr>\n",
       "      <th>3</th>\n",
       "      <td>895</td>\n",
       "      <td>3</td>\n",
       "      <td>Wirz, Mr. Albert</td>\n",
       "      <td>male</td>\n",
       "      <td>27.0</td>\n",
       "      <td>0</td>\n",
       "      <td>0</td>\n",
       "      <td>315154</td>\n",
       "      <td>8.6625</td>\n",
       "      <td>NaN</td>\n",
       "      <td>S</td>\n",
       "    </tr>\n",
       "    <tr>\n",
       "      <th>4</th>\n",
       "      <td>896</td>\n",
       "      <td>3</td>\n",
       "      <td>Hirvonen, Mrs. Alexander (Helga E Lindqvist)</td>\n",
       "      <td>female</td>\n",
       "      <td>22.0</td>\n",
       "      <td>1</td>\n",
       "      <td>1</td>\n",
       "      <td>3101298</td>\n",
       "      <td>12.2875</td>\n",
       "      <td>NaN</td>\n",
       "      <td>S</td>\n",
       "    </tr>\n",
       "  </tbody>\n",
       "</table>\n",
       "</div>"
      ],
      "text/plain": [
       "   PassengerId  Pclass                                          Name     Sex  \\\n",
       "0          892       3                              Kelly, Mr. James    male   \n",
       "1          893       3              Wilkes, Mrs. James (Ellen Needs)  female   \n",
       "2          894       2                     Myles, Mr. Thomas Francis    male   \n",
       "3          895       3                              Wirz, Mr. Albert    male   \n",
       "4          896       3  Hirvonen, Mrs. Alexander (Helga E Lindqvist)  female   \n",
       "\n",
       "    Age  SibSp  Parch   Ticket     Fare Cabin Embarked  \n",
       "0  34.5      0      0   330911   7.8292   NaN        Q  \n",
       "1  47.0      1      0   363272   7.0000   NaN        S  \n",
       "2  62.0      0      0   240276   9.6875   NaN        Q  \n",
       "3  27.0      0      0   315154   8.6625   NaN        S  \n",
       "4  22.0      1      1  3101298  12.2875   NaN        S  "
      ]
     },
     "execution_count": 5,
     "metadata": {},
     "output_type": "execute_result"
    }
   ],
   "source": [
    "test_df = pd.read_csv('./test.csv')\n",
    "\n",
    "test_df.head()"
   ]
  },
  {
   "cell_type": "code",
   "execution_count": 6,
   "metadata": {},
   "outputs": [
    {
     "name": "stdout",
     "output_type": "stream",
     "text": [
      "Training Dataset: (891, 12)\n",
      "Testing Dataset: (418, 11)\n",
      "Training Dataset Columns: ['PassengerId', 'Survived', 'Pclass', 'Name', 'Sex', 'Age', 'SibSp', 'Parch', 'Ticket', 'Fare', 'Cabin', 'Embarked']\n",
      "Testing Dataset Columns: ['PassengerId', 'Pclass', 'Name', 'Sex', 'Age', 'SibSp', 'Parch', 'Ticket', 'Fare', 'Cabin', 'Embarked']\n"
     ]
    }
   ],
   "source": [
    "# Dataset Attributes\n",
    "print(\"Training Dataset:\", train_df.shape)\n",
    "print(\"Testing Dataset:\", test_df.shape)\n",
    "\n",
    "print(\"Training Dataset Columns:\", list(train_df.columns))\n",
    "print(\"Testing Dataset Columns:\", list(test_df.columns))"
   ]
  },
  {
   "cell_type": "code",
   "execution_count": 7,
   "metadata": {},
   "outputs": [],
   "source": [
    "# # # Converts the string values in the 'Sex' column of the dataset to integers.\n",
    "# # # Male = 0\n",
    "# # # Female = 1\n",
    "\n",
    "# train_df['Sex'] = train_df['Sex'].map({'male': 0,'female': 1})\n",
    "# test_df['Sex'] = test_df['Sex'].map({'male': 0,'female': 1})\n",
    "\n",
    "# # # Removes all rows from the training dataset that contain the value NaN under the 'Age' column\n",
    "# train_df = train_df[train_df['Age'].notna()]\n",
    "# test_df = test_df[test_df['Age'].notna()]"
   ]
  },
  {
   "cell_type": "code",
   "execution_count": 8,
   "metadata": {},
   "outputs": [
    {
     "name": "stdout",
     "output_type": "stream",
     "text": [
      "(891, 8)\n",
      "(418, 8)\n"
     ]
    }
   ],
   "source": [
    "df = train_df.append(test_df)\n",
    "\n",
    "# Cleaning data \n",
    "df.drop(['PassengerId', 'Name', 'Ticket', 'Cabin'], axis = 1, inplace=True)\n",
    "df['Age'] = df['Age'].fillna(df['Age'].mean())\n",
    "\n",
    "df['Sex'] = df['Sex'].map({'male': 0,'female': 1})\n",
    "\n",
    "df['Embarked'] = df['Embarked'].replace('S',0)\n",
    "df['Embarked'] = df['Embarked'].replace('C',1)\n",
    "df['Embarked'] = df['Embarked'].replace('Q',2)\n",
    "\n",
    "df.fillna(0, inplace=True)\n",
    "\n",
    "train_df = df[:891]\n",
    "test_df = df[891:891+418]\n",
    "\n",
    "print(train_df.shape)\n",
    "print(test_df.shape)"
   ]
  },
  {
   "cell_type": "code",
   "execution_count": 9,
   "metadata": {},
   "outputs": [],
   "source": [
    "def dataframe_to_arrays(dataframe):\n",
    "    # Make a copy of the original dataframe\n",
    "    dataframe1 = dataframe.copy(deep=True)\n",
    "#     # Convert non-numeric categorical columns to numbers\n",
    "#     for col in categorical_cols:\n",
    "#         dataframe1[col] = dataframe1[col].astype('category').cat.codes\n",
    "    # Extract input & outupts as numpy arrays\n",
    "    inputs_array = dataframe1[dataframe1.columns[1:]].to_numpy()\n",
    "    targets_array = dataframe1[dataframe1.columns[0]].to_numpy()\n",
    "    return inputs_array, targets_array\n",
    "\n",
    "inputs_array, targets_array = dataframe_to_arrays(df)\n",
    "\n",
    "inputs = torch.tensor(inputs_array, dtype=torch.float32)\n",
    "targets = torch.tensor(targets_array, dtype=torch.float32)\n",
    "\n",
    "train_ds = TensorDataset(inputs[0:691], targets[0:691])\n",
    "val_ds = TensorDataset(inputs[691:891], targets[691:891]) \n",
    "test_ds = TensorDataset(inputs[891:], targets[891:])\n",
    "\n",
    "batch_size=32\n",
    "train_loader = DataLoader(train_ds, batch_size, shuffle=True, num_workers=4, pin_memory=True)\n",
    "val_loader = DataLoader(val_ds, batch_size*2, num_workers=4, pin_memory=True)\n",
    "test_loader = DataLoader(test_ds, 418, num_workers=4, pin_memory=True)"
   ]
  },
  {
   "cell_type": "code",
   "execution_count": 10,
   "metadata": {
    "scrolled": true
   },
   "outputs": [],
   "source": [
    "# # # Convert from Pandas dataframe to numpy arrays\n",
    "# inputs = train_df.drop([TARGET_COLUMN], axis=1).values\n",
    "# targets = train_df[[TARGET_COLUMN]].values\n",
    "\n",
    "# inputs.shape, targets.shape"
   ]
  },
  {
   "cell_type": "code",
   "execution_count": 11,
   "metadata": {},
   "outputs": [],
   "source": [
    "# # Adding a Survived column in test data \n",
    "# lst = np.zeros(len(test_df), dtype=int)\n",
    "# test_df.insert(loc=1, column='Survived', value=lst)"
   ]
  },
  {
   "cell_type": "code",
   "execution_count": 12,
   "metadata": {},
   "outputs": [],
   "source": [
    "# # Convert to PyTorch dataset\n",
    "# dataset = TensorDataset(torch.tensor(inputs, dtype=torch.float32), torch.tensor(targets, dtype=torch.float32))\n",
    "\n",
    "# train_ds, val_ds = random_split(dataset, [791, 100])\n",
    "\n",
    "# train_loader = DataLoader(train_ds, batch_size, shuffle=True)\n",
    "# val_loader = DataLoader(val_ds, batch_size*2)"
   ]
  },
  {
   "cell_type": "code",
   "execution_count": 13,
   "metadata": {
    "scrolled": true
   },
   "outputs": [
    {
     "name": "stdout",
     "output_type": "stream",
     "text": [
      "inputs: tensor([[ 3.0000,  1.0000,  3.0000,  3.0000,  1.0000, 21.0750,  0.0000],\n",
      "        [ 2.0000,  1.0000, 32.5000,  0.0000,  0.0000, 13.0000,  0.0000],\n",
      "        [ 3.0000,  1.0000,  2.0000,  4.0000,  2.0000, 31.2750,  0.0000],\n",
      "        [ 3.0000,  1.0000,  0.7500,  2.0000,  1.0000, 19.2583,  1.0000],\n",
      "        [ 3.0000,  1.0000, 29.8811,  0.0000,  0.0000,  7.7500,  2.0000],\n",
      "        [ 3.0000,  0.0000, 33.0000,  1.0000,  1.0000, 20.5250,  0.0000],\n",
      "        [ 3.0000,  0.0000, 51.0000,  0.0000,  0.0000,  8.0500,  0.0000],\n",
      "        [ 2.0000,  1.0000,  3.0000,  1.0000,  2.0000, 41.5792,  1.0000],\n",
      "        [ 3.0000,  0.0000, 45.0000,  0.0000,  0.0000,  8.0500,  0.0000],\n",
      "        [ 3.0000,  0.0000, 14.0000,  4.0000,  1.0000, 39.6875,  0.0000],\n",
      "        [ 3.0000,  0.0000, 51.0000,  0.0000,  0.0000,  7.0542,  0.0000],\n",
      "        [ 3.0000,  0.0000, 29.8811,  0.0000,  0.0000,  8.0500,  0.0000],\n",
      "        [ 2.0000,  1.0000, 27.0000,  1.0000,  0.0000, 21.0000,  0.0000],\n",
      "        [ 3.0000,  0.0000, 23.0000,  0.0000,  0.0000,  9.2250,  0.0000],\n",
      "        [ 3.0000,  0.0000, 29.8811,  0.0000,  0.0000,  7.7500,  2.0000],\n",
      "        [ 2.0000,  0.0000, 24.0000,  2.0000,  0.0000, 73.5000,  0.0000],\n",
      "        [ 2.0000,  1.0000,  8.0000,  0.0000,  2.0000, 26.2500,  0.0000],\n",
      "        [ 2.0000,  0.0000, 46.0000,  0.0000,  0.0000, 26.0000,  0.0000],\n",
      "        [ 1.0000,  0.0000, 29.8811,  0.0000,  0.0000, 26.0000,  0.0000],\n",
      "        [ 3.0000,  1.0000, 29.8811,  0.0000,  0.0000,  7.7500,  2.0000],\n",
      "        [ 1.0000,  0.0000, 37.0000,  1.0000,  0.0000, 53.1000,  0.0000],\n",
      "        [ 1.0000,  0.0000, 56.0000,  0.0000,  0.0000, 26.5500,  0.0000],\n",
      "        [ 3.0000,  0.0000,  9.0000,  1.0000,  1.0000, 15.9000,  0.0000],\n",
      "        [ 2.0000,  1.0000, 34.0000,  0.0000,  0.0000, 10.5000,  0.0000],\n",
      "        [ 1.0000,  0.0000, 29.8811,  0.0000,  0.0000, 27.7208,  1.0000],\n",
      "        [ 3.0000,  1.0000, 29.8811,  1.0000,  0.0000, 16.1000,  0.0000],\n",
      "        [ 3.0000,  0.0000, 39.0000,  0.0000,  0.0000,  7.9250,  0.0000],\n",
      "        [ 1.0000,  0.0000, 62.0000,  0.0000,  0.0000, 26.5500,  0.0000],\n",
      "        [ 3.0000,  0.0000, 29.8811,  0.0000,  0.0000,  8.0500,  0.0000],\n",
      "        [ 2.0000,  1.0000, 13.0000,  0.0000,  1.0000, 19.5000,  0.0000],\n",
      "        [ 1.0000,  1.0000, 53.0000,  2.0000,  0.0000, 51.4792,  0.0000],\n",
      "        [ 3.0000,  0.0000, 32.0000,  0.0000,  0.0000,  7.8542,  0.0000]])\n",
      "targets: tensor([0., 1., 0., 1., 1., 0., 0., 1., 1., 0., 0., 0., 0., 0., 0., 0., 1., 0.,\n",
      "        0., 1., 0., 0., 1., 1., 0., 1., 0., 0., 0., 1., 1., 1.])\n"
     ]
    }
   ],
   "source": [
    "for xb, yb in train_loader:\n",
    "    print(\"inputs:\", xb)\n",
    "    print(\"targets:\", yb)\n",
    "    break"
   ]
  },
  {
   "cell_type": "code",
   "execution_count": 14,
   "metadata": {},
   "outputs": [],
   "source": [
    "# Model\n",
    "class TitanicModel(nn.Module):\n",
    "    def __init__(self):\n",
    "        super().__init__()\n",
    "        self.linear1 = nn.Linear(input_size, output_size)\n",
    "#         self.linear1 = nn.Linear(input_size, 3)\n",
    "#         self.linear2 = nn.Linear(3, output_size)\n",
    "        \n",
    "    def forward(self, xb):\n",
    "        out = self.linear1(xb)\n",
    "        out = torch.sigmoid(out)\n",
    "        \n",
    "        return out\n",
    "    \n",
    "    def training_step(self, batch):\n",
    "        inputs, targets = batch \n",
    "        out = self(inputs)                 # Generate predictions\n",
    "#         loss = F.l1_loss(out, targets)    # Calculate loss\n",
    "        loss = F.binary_cross_entropy(out, targets)\n",
    "        return loss\n",
    "    \n",
    "    def validation_step(self, batch):\n",
    "        inputs, targets = batch \n",
    "        out = self(inputs)                 # Generate predictions\n",
    "#         loss = F.l1_loss(out, targets)    # Calculate loss\n",
    "        loss = F.binary_cross_entropy(out, targets)\n",
    "        acc = accuracy(out, targets)           # Calculate accuracy\n",
    "        \n",
    "#         print(\"acc:\", acc)\n",
    "        \n",
    "        return {'val_loss': loss.detach(), 'val_acc': acc.detach()}\n",
    "        \n",
    "    def validation_epoch_end(self, outputs):\n",
    "        batch_losses = [x['val_loss'] for x in outputs]\n",
    "        epoch_loss = torch.stack(batch_losses).mean()   # Combine losses\n",
    "        batch_accs = [x['val_acc'] for x in outputs]\n",
    "        epoch_acc = torch.stack(batch_accs).mean()      # Combine accuracies\n",
    "        \n",
    "#         print(\"epoch_acc:\", epoch_acc)\n",
    "        \n",
    "        return {'val_loss': epoch_loss.item(), 'val_acc': epoch_acc.item()}\n",
    "    \n",
    "    def epoch_end(self, epoch, result):\n",
    "        print(\"Epoch [{}], val_loss: {:.4f}, val_acc: {:.4f}\".format(epoch, result['val_loss'], result['val_acc']))\n",
    "    \n",
    "model = TitanicModel()"
   ]
  },
  {
   "cell_type": "code",
   "execution_count": 15,
   "metadata": {},
   "outputs": [],
   "source": [
    "# Training\n",
    "def accuracy(outputs, labels):\n",
    "        return torch.tensor(torch.sum(abs(outputs-labels) < 0.5).item() / len(outputs))\n",
    "#     _, preds = torch.max(outputs, dim=1)\n",
    "#     return torch.tensor(torch.sum(preds == labels).item() / len(preds))\n",
    "\n",
    "def evaluate(model, val_loader):\n",
    "    outputs = [model.validation_step(batch) for batch in val_loader]\n",
    "    return model.validation_epoch_end(outputs)\n",
    "\n",
    "def fit(epochs, lr, model, train_loader, val_loader, opt_func=torch.optim.SGD):\n",
    "    history = []\n",
    "    optimizer = opt_func(model.parameters(), lr)\n",
    "    for epoch in range(epochs):\n",
    "        # Training Phase \n",
    "        for batch in train_loader:\n",
    "            loss = model.training_step(batch)\n",
    "            loss.backward()\n",
    "            optimizer.step()\n",
    "            optimizer.zero_grad()\n",
    "        # Validation phase\n",
    "        result = evaluate(model, val_loader)\n",
    "        model.epoch_end(epoch, result)\n",
    "        history.append(result)\n",
    "    return history"
   ]
  },
  {
   "cell_type": "code",
   "execution_count": 16,
   "metadata": {},
   "outputs": [],
   "source": [
    "def plot_losses(history):\n",
    "    losses = [x['val_loss'] for x in history]\n",
    "    plt.plot(losses, '-x')\n",
    "    plt.xlabel('epoch')\n",
    "    plt.ylabel('loss')\n",
    "    plt.title('Loss vs. No. of epochs');\n",
    "    \n",
    "def plot_accuracies(history):\n",
    "    accuracies = [x['val_acc'] for x in history]\n",
    "    plt.plot(accuracies, '-x')\n",
    "    plt.xlabel('epoch')\n",
    "    plt.ylabel('accuracy')\n",
    "    plt.title('Accuracy vs. No. of epochs');"
   ]
  },
  {
   "cell_type": "code",
   "execution_count": 17,
   "metadata": {
    "scrolled": false
   },
   "outputs": [
    {
     "name": "stderr",
     "output_type": "stream",
     "text": [
      "C:\\Users\\gorpa\\anaconda3\\lib\\site-packages\\ipykernel_launcher.py:26: UserWarning: Using a target size (torch.Size([64])) that is different to the input size (torch.Size([64, 1])) is deprecated. Please ensure they have the same size.\n",
      "C:\\Users\\gorpa\\anaconda3\\lib\\site-packages\\ipykernel_launcher.py:26: UserWarning: Using a target size (torch.Size([8])) that is different to the input size (torch.Size([8, 1])) is deprecated. Please ensure they have the same size.\n"
     ]
    },
    {
     "data": {
      "text/plain": [
       "{'val_loss': 19.34279441833496, 'val_acc': 18.5}"
      ]
     },
     "execution_count": 17,
     "metadata": {},
     "output_type": "execute_result"
    }
   ],
   "source": [
    "result = evaluate(model, val_loader)\n",
    "# history = [evaluate(model, val_loader)]\n",
    "\n",
    "result"
   ]
  },
  {
   "cell_type": "code",
   "execution_count": 18,
   "metadata": {},
   "outputs": [],
   "source": [
    "# epochs_list = [1000, 500, 250, 125, 75, 50, 25, 10, 5, 1]\n",
    "# learning_rates = [1e-2, 1e-3, 1e-4, 1e-5, 1e-6, 1e-7, 1e-8, 1e-9, 1e-10, 1e-11]\n",
    "\n",
    "epochs_list = [100, 100, 100, 100, 100]\n",
    "learning_rates = [1e-2, 1e-3, 1e-4, 1e-5, 1e-6]"
   ]
  },
  {
   "cell_type": "code",
   "execution_count": 19,
   "metadata": {
    "scrolled": true
   },
   "outputs": [
    {
     "name": "stderr",
     "output_type": "stream",
     "text": [
      "C:\\Users\\gorpa\\anaconda3\\lib\\site-packages\\ipykernel_launcher.py:19: UserWarning: Using a target size (torch.Size([32])) that is different to the input size (torch.Size([32, 1])) is deprecated. Please ensure they have the same size.\n",
      "C:\\Users\\gorpa\\anaconda3\\lib\\site-packages\\ipykernel_launcher.py:19: UserWarning: Using a target size (torch.Size([19])) that is different to the input size (torch.Size([19, 1])) is deprecated. Please ensure they have the same size.\n",
      "C:\\Users\\gorpa\\anaconda3\\lib\\site-packages\\ipykernel_launcher.py:26: UserWarning: Using a target size (torch.Size([64])) that is different to the input size (torch.Size([64, 1])) is deprecated. Please ensure they have the same size.\n",
      "C:\\Users\\gorpa\\anaconda3\\lib\\site-packages\\ipykernel_launcher.py:26: UserWarning: Using a target size (torch.Size([8])) that is different to the input size (torch.Size([8, 1])) is deprecated. Please ensure they have the same size.\n"
     ]
    },
    {
     "name": "stdout",
     "output_type": "stream",
     "text": [
      "Epoch [0], val_loss: 2.9997, val_acc: 31.5000\n",
      "Epoch [1], val_loss: 5.3323, val_acc: 31.5000\n",
      "Epoch [2], val_loss: 0.8037, val_acc: 24.9141\n",
      "Epoch [3], val_loss: 0.5870, val_acc: 27.1406\n",
      "Epoch [4], val_loss: 0.7121, val_acc: 26.5469\n",
      "Epoch [5], val_loss: 2.3156, val_acc: 31.5000\n",
      "Epoch [6], val_loss: 0.5792, val_acc: 29.9531\n",
      "Epoch [7], val_loss: 0.6150, val_acc: 27.1562\n",
      "Epoch [8], val_loss: 0.6916, val_acc: 27.2422\n",
      "Epoch [9], val_loss: 0.6993, val_acc: 30.2188\n",
      "Epoch [10], val_loss: 6.7897, val_acc: 18.5000\n",
      "Epoch [11], val_loss: 1.2051, val_acc: 22.4531\n",
      "Epoch [12], val_loss: 0.7139, val_acc: 26.6953\n",
      "Epoch [13], val_loss: 1.0295, val_acc: 25.0156\n",
      "Epoch [14], val_loss: 1.6767, val_acc: 31.5000\n",
      "Epoch [15], val_loss: 1.0624, val_acc: 30.9766\n",
      "Epoch [16], val_loss: 0.5114, val_acc: 27.6719\n",
      "Epoch [17], val_loss: 2.5858, val_acc: 31.5000\n",
      "Epoch [18], val_loss: 1.9559, val_acc: 25.2891\n",
      "Epoch [19], val_loss: 1.9920, val_acc: 20.4609\n",
      "Epoch [20], val_loss: 1.2255, val_acc: 18.6953\n",
      "Epoch [21], val_loss: 1.7056, val_acc: 18.6016\n",
      "Epoch [22], val_loss: 1.0378, val_acc: 18.8906\n",
      "Epoch [23], val_loss: 0.4970, val_acc: 27.8203\n",
      "Epoch [24], val_loss: 5.4937, val_acc: 18.5000\n",
      "Epoch [25], val_loss: 0.8918, val_acc: 24.2812\n",
      "Epoch [26], val_loss: 0.7880, val_acc: 31.3594\n",
      "Epoch [27], val_loss: 0.5279, val_acc: 29.5625\n",
      "Epoch [28], val_loss: 0.7218, val_acc: 30.6875\n",
      "Epoch [29], val_loss: 0.6918, val_acc: 31.5000\n",
      "Epoch [30], val_loss: 1.5350, val_acc: 31.0312\n",
      "Epoch [31], val_loss: 0.6939, val_acc: 30.8906\n",
      "Epoch [32], val_loss: 0.5906, val_acc: 30.2812\n",
      "Epoch [33], val_loss: 2.1546, val_acc: 18.6406\n",
      "Epoch [34], val_loss: 0.4464, val_acc: 28.5547\n",
      "Epoch [35], val_loss: 1.7088, val_acc: 18.6406\n",
      "Epoch [36], val_loss: 0.5216, val_acc: 27.0312\n",
      "Epoch [37], val_loss: 2.5597, val_acc: 18.6016\n",
      "Epoch [38], val_loss: 0.4665, val_acc: 29.7266\n",
      "Epoch [39], val_loss: 1.1635, val_acc: 31.1641\n",
      "Epoch [40], val_loss: 0.9441, val_acc: 30.4219\n",
      "Epoch [41], val_loss: 1.3039, val_acc: 18.7266\n",
      "Epoch [42], val_loss: 0.6944, val_acc: 29.9453\n",
      "Epoch [43], val_loss: 0.5580, val_acc: 27.3828\n",
      "Epoch [44], val_loss: 0.5968, val_acc: 30.4609\n",
      "Epoch [45], val_loss: 0.5125, val_acc: 26.9922\n",
      "Epoch [46], val_loss: 1.0056, val_acc: 20.9688\n",
      "Epoch [47], val_loss: 0.5366, val_acc: 28.8594\n",
      "Epoch [48], val_loss: 0.5342, val_acc: 26.9922\n",
      "Epoch [49], val_loss: 0.7290, val_acc: 30.9297\n",
      "Epoch [50], val_loss: 3.1694, val_acc: 18.5000\n",
      "Epoch [51], val_loss: 0.8050, val_acc: 30.9297\n",
      "Epoch [52], val_loss: 3.1115, val_acc: 31.5000\n",
      "Epoch [53], val_loss: 2.2150, val_acc: 18.5469\n",
      "Epoch [54], val_loss: 2.7112, val_acc: 31.5000\n",
      "Epoch [55], val_loss: 0.7753, val_acc: 23.7578\n",
      "Epoch [56], val_loss: 0.4874, val_acc: 28.3125\n",
      "Epoch [57], val_loss: 0.4561, val_acc: 27.9141\n",
      "Epoch [58], val_loss: 0.4917, val_acc: 27.3047\n",
      "Epoch [59], val_loss: 2.2475, val_acc: 24.8281\n",
      "Epoch [60], val_loss: 0.4921, val_acc: 26.2500\n",
      "Epoch [61], val_loss: 1.1098, val_acc: 31.3125\n",
      "Epoch [62], val_loss: 1.1830, val_acc: 18.9609\n",
      "Epoch [63], val_loss: 0.7828, val_acc: 31.1719\n",
      "Epoch [64], val_loss: 0.7006, val_acc: 30.3672\n",
      "Epoch [65], val_loss: 0.7808, val_acc: 25.1406\n",
      "Epoch [66], val_loss: 2.5524, val_acc: 18.5000\n",
      "Epoch [67], val_loss: 0.5757, val_acc: 26.5469\n",
      "Epoch [68], val_loss: 0.6920, val_acc: 24.1797\n",
      "Epoch [69], val_loss: 0.4830, val_acc: 26.5000\n",
      "Epoch [70], val_loss: 0.8410, val_acc: 21.9922\n",
      "Epoch [71], val_loss: 1.0531, val_acc: 19.8750\n",
      "Epoch [72], val_loss: 0.6875, val_acc: 30.1016\n",
      "Epoch [73], val_loss: 0.6630, val_acc: 24.3672\n",
      "Epoch [74], val_loss: 0.7346, val_acc: 30.0078\n",
      "Epoch [75], val_loss: 1.4553, val_acc: 31.5000\n",
      "Epoch [76], val_loss: 1.1835, val_acc: 31.5000\n",
      "Epoch [77], val_loss: 0.4897, val_acc: 26.2266\n",
      "Epoch [78], val_loss: 2.4902, val_acc: 18.5000\n",
      "Epoch [79], val_loss: 0.9026, val_acc: 24.3750\n",
      "Epoch [80], val_loss: 0.4174, val_acc: 27.3281\n",
      "Epoch [81], val_loss: 0.5345, val_acc: 25.8750\n",
      "Epoch [82], val_loss: 0.8197, val_acc: 22.7500\n",
      "Epoch [83], val_loss: 0.4720, val_acc: 27.0078\n",
      "Epoch [84], val_loss: 0.6452, val_acc: 25.7422\n",
      "Epoch [85], val_loss: 0.5996, val_acc: 24.4922\n",
      "Epoch [86], val_loss: 0.4294, val_acc: 28.3906\n",
      "Epoch [87], val_loss: 0.4505, val_acc: 27.3750\n",
      "Epoch [88], val_loss: 0.8261, val_acc: 29.9141\n",
      "Epoch [89], val_loss: 0.4933, val_acc: 29.0703\n",
      "Epoch [90], val_loss: 2.3609, val_acc: 31.5000\n",
      "Epoch [91], val_loss: 0.4723, val_acc: 27.2656\n",
      "Epoch [92], val_loss: 0.4332, val_acc: 28.1172\n",
      "Epoch [93], val_loss: 0.5649, val_acc: 27.9375\n",
      "Epoch [94], val_loss: 0.7646, val_acc: 30.9844\n",
      "Epoch [95], val_loss: 0.4360, val_acc: 28.4688\n",
      "Epoch [96], val_loss: 4.3452, val_acc: 31.5000\n",
      "Epoch [97], val_loss: 1.0570, val_acc: 22.6484\n",
      "Epoch [98], val_loss: 1.4364, val_acc: 31.5000\n",
      "Epoch [99], val_loss: 0.6402, val_acc: 30.1016\n"
     ]
    }
   ],
   "source": [
    "history = fit(epochs_list[0], learning_rates[0], model, train_loader, val_loader)"
   ]
  },
  {
   "cell_type": "code",
   "execution_count": 20,
   "metadata": {
    "scrolled": true
   },
   "outputs": [],
   "source": [
    "# history += fit(epochs_list[1], learning_rates[1], model, train_loader, val_loader)"
   ]
  },
  {
   "cell_type": "code",
   "execution_count": 21,
   "metadata": {
    "scrolled": true
   },
   "outputs": [],
   "source": [
    "# history += fit(epochs_list[2], learning_rates[2], model, train_loader, val_loader)"
   ]
  },
  {
   "cell_type": "code",
   "execution_count": 22,
   "metadata": {
    "scrolled": true
   },
   "outputs": [],
   "source": [
    "# history += fit(epochs_list[3], learning_rates[3], model, train_loader, val_loader)"
   ]
  },
  {
   "cell_type": "code",
   "execution_count": 23,
   "metadata": {
    "scrolled": true
   },
   "outputs": [],
   "source": [
    "# history += fit(epochs_list[4], learning_rates[4], model, train_loader, val_loader)"
   ]
  },
  {
   "cell_type": "code",
   "execution_count": 24,
   "metadata": {},
   "outputs": [],
   "source": [
    "# history += fit(epochs_list[5], learning_rates[5], model, train_loader, val_loader)"
   ]
  },
  {
   "cell_type": "code",
   "execution_count": 25,
   "metadata": {},
   "outputs": [],
   "source": [
    "# history += fit(epochs_list[6], learning_rates[6], model, train_loader, val_loader)"
   ]
  },
  {
   "cell_type": "code",
   "execution_count": 26,
   "metadata": {},
   "outputs": [],
   "source": [
    "# history += fit(epochs_list[7], learning_rates[7], model, train_loader, val_loader)"
   ]
  },
  {
   "cell_type": "code",
   "execution_count": 27,
   "metadata": {},
   "outputs": [],
   "source": [
    "# history += fit(epochs_list[8], learning_rates[8], model, train_loader, val_loader)"
   ]
  },
  {
   "cell_type": "code",
   "execution_count": 28,
   "metadata": {},
   "outputs": [],
   "source": [
    "# history += fit(epochs_list[9], learning_rates[9], model, train_loader, val_loader)"
   ]
  },
  {
   "cell_type": "code",
   "execution_count": 29,
   "metadata": {},
   "outputs": [
    {
     "data": {
      "image/png": "[encoded data removed]",
      "text/plain": [
       "<Figure size 432x288 with 1 Axes>"
      ]
     },
     "metadata": {
      "needs_background": "light"
     },
     "output_type": "display_data"
    }
   ],
   "source": [
    "plot_losses(history)"
   ]
  },
  {
   "cell_type": "code",
   "execution_count": 30,
   "metadata": {
    "scrolled": false
   },
   "outputs": [
    {
     "data": {
      "image/png": "[encoded data removed]",
      "text/plain": [
       "<Figure size 432x288 with 1 Axes>"
      ]
     },
     "metadata": {
      "needs_background": "light"
     },
     "output_type": "display_data"
    }
   ],
   "source": [
    "plot_accuracies(history)"
   ]
  },
  {
   "cell_type": "code",
   "execution_count": 31,
   "metadata": {},
   "outputs": [
    {
     "name": "stderr",
     "output_type": "stream",
     "text": [
      "C:\\Users\\gorpa\\anaconda3\\lib\\site-packages\\ipykernel_launcher.py:26: UserWarning: Using a target size (torch.Size([64])) that is different to the input size (torch.Size([64, 1])) is deprecated. Please ensure they have the same size.\n",
      "C:\\Users\\gorpa\\anaconda3\\lib\\site-packages\\ipykernel_launcher.py:26: UserWarning: Using a target size (torch.Size([8])) that is different to the input size (torch.Size([8, 1])) is deprecated. Please ensure they have the same size.\n"
     ]
    },
    {
     "data": {
      "text/plain": [
       "{'val_loss': 0.6401510238647461, 'val_acc': 30.1015625}"
      ]
     },
     "execution_count": 31,
     "metadata": {},
     "output_type": "execute_result"
    }
   ],
   "source": [
    "result = evaluate(model, val_loader)\n",
    "\n",
    "result"
   ]
  },
  {
   "cell_type": "code",
   "execution_count": null,
   "metadata": {},
   "outputs": [
    {
     "name": "stdout",
     "output_type": "stream",
     "text": [
      "[jovian] Metrics logged.\n",
      "[jovian] Hyperparams logged.\n"
     ]
    },
    {
     "data": {
      "application/javascript": [
       "window.require && require([\"base/js/namespace\"],function(Jupyter){Jupyter.notebook.save_checkpoint()})"
      ],
      "text/plain": [
       "<IPython.core.display.Javascript object>"
      ]
     },
     "metadata": {},
     "output_type": "display_data"
    },
    {
     "name": "stdout",
     "output_type": "stream",
     "text": [
      "[jovian] Attempting to save notebook..\r\n"
     ]
    }
   ],
   "source": [
    "torch.save(model.state_dict(), 'titanic-dataset.pth')\n",
    "jovian.log_metrics(val_acc = history[-1]['val_acc'], val_loss = history[-1]['val_loss'])\n",
    "jovian.log_hyperparams(lr = learning_rates, epochs = epochs_list, batch_size = batch_size)\n",
    "jovian.commit(files=['train.csv', 'test.csv'], project='titanic-dataset', environment=None, outputs=['titanic-dataset.pth'])"
   ]
  }
 ],
 "metadata": {
  "kernelspec": {
   "display_name": "Python 3",
   "language": "python",
   "name": "python3"
  },
  "language_info": {
   "codemirror_mode": {
    "name": "ipython",
    "version": 3
   },
   "file_extension": ".py",
   "mimetype": "text/x-python",
   "name": "python",
   "nbconvert_exporter": "python",
   "pygments_lexer": "ipython3",
   "version": "3.7.6"
  }
 },
 "nbformat": 4,
 "nbformat_minor": 2
}
